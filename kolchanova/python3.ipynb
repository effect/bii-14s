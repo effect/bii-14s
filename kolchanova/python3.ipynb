{
 "metadata": {
  "name": "",
  "signature": "sha256:ce7767af915b384aa25f3c12e852aedac142b911294b4a26e008ed223d349132"
 },
 "nbformat": 3,
 "nbformat_minor": 0,
 "worksheets": [
  {
   "cells": [
    {
     "cell_type": "code",
     "collapsed": false,
     "input": [
      "import numpy, scipy\n",
      "from math import sqrt\n",
      "from scipy import stats\n",
      "import matplotlib.pyplot as plot\n",
      "import random\n",
      "%matplotlib inline"
     ],
     "language": "python",
     "metadata": {},
     "outputs": [],
     "prompt_number": 75
    },
    {
     "cell_type": "code",
     "collapsed": false,
     "input": [
      "x = numpy.linspace(0, 10, 1000)\n",
      "y = 2 * x + 1\n",
      "noise = scipy.randn(y.size)\n",
      "y_noise = y + noise"
     ],
     "language": "python",
     "metadata": {},
     "outputs": [],
     "prompt_number": 7
    },
    {
     "cell_type": "code",
     "collapsed": false,
     "input": [
      "TRAIN_SIZE = 800\n",
      "from sklearn.utils import shuffle\n",
      "x, y_noise = shuffle(x, y_noise, random_state=1)\n",
      "x_train = x[:TRAIN_SIZE]\n",
      "y_train = y_noise[:TRAIN_SIZE]\n",
      "x_test = x[TRAIN_SIZE:]\n",
      "y_test = y_noise[TRAIN_SIZE:]"
     ],
     "language": "python",
     "metadata": {},
     "outputs": [],
     "prompt_number": 8
    },
    {
     "cell_type": "code",
     "collapsed": false,
     "input": [
      "X_train = numpy.asmatrix(x_train).T\n",
      "Y_train = numpy.asmatrix(y_train).T\n",
      "Train_set = numpy.hstack((X_train, Y_train))\n",
      "print (Train_set.shape)\n",
      "\n",
      "X_test = numpy.asmatrix(x_test).T\n",
      "Y_test = numpy.asmatrix(y_test).T\n",
      "Test_set = numpy.hstack((X_test,Y_test))\n",
      "print (Test_set.shape)"
     ],
     "language": "python",
     "metadata": {},
     "outputs": [
      {
       "output_type": "stream",
       "stream": "stdout",
       "text": [
        "(800, 2)\n",
        "(200, 2)\n"
       ]
      }
     ],
     "prompt_number": 11
    },
    {
     "cell_type": "code",
     "collapsed": false,
     "input": [
      "betas = scipy.polyfit(x, y_noise, 1)[::-1]  # 1 is order (max degree of x)\n",
      "betas"
     ],
     "language": "python",
     "metadata": {},
     "outputs": [
      {
       "metadata": {},
       "output_type": "pyout",
       "prompt_number": 12,
       "text": [
        "array([ 1.10092692,  1.99020288])"
       ]
      }
     ],
     "prompt_number": 12
    },
    {
     "cell_type": "code",
     "collapsed": false,
     "input": [
      "_ = plot.plot(x, y_noise, \"r.\")\n",
      "_ = plot.plot(x, betas[0] + betas[1]*x, color=\"blue\")\n",
      "plot.xlabel('X')\n",
      "plot.ylabel('Y')"
     ],
     "language": "python",
     "metadata": {},
     "outputs": [
      {
       "metadata": {},
       "output_type": "pyout",
       "prompt_number": 61,
       "text": [
        "<matplotlib.text.Text at 0x105f64a10>"
       ]
      },
      {
       "metadata": {},
       "output_type": "display_data",
       "png": "[encoded data removed]",
       "text": [
        "<matplotlib.figure.Figure at 0x105f72990>"
       ]
      }
     ],
     "prompt_number": 61
    },
    {
     "cell_type": "code",
     "collapsed": false,
     "input": [
      "from sklearn import linear_model\n",
      "regr = linear_model.LinearRegression()\n",
      "regr.fit(X_train, Y_train)\n",
      "print(regr.coef_)\n",
      "print(regr.intercept_)"
     ],
     "language": "python",
     "metadata": {},
     "outputs": [
      {
       "output_type": "stream",
       "stream": "stdout",
       "text": [
        "[[ 1.98956501]]\n",
        "[ 1.11394404]\n"
       ]
      }
     ],
     "prompt_number": 16
    },
    {
     "cell_type": "code",
     "collapsed": false,
     "input": [
      "regr.fit(X_test, Y_test)\n",
      "print (regr.coef_)\n",
      "print (regr.intercept_)"
     ],
     "language": "python",
     "metadata": {},
     "outputs": [
      {
       "output_type": "stream",
       "stream": "stdout",
       "text": [
        "[[ 1.99356972]]\n",
        "[ 1.04440558]\n"
       ]
      }
     ],
     "prompt_number": 17
    },
    {
     "cell_type": "code",
     "collapsed": false,
     "input": [
      "slope, intercept, r_value, p_value, std_err = stats.linregress(x,y_noise)\n",
      "print (\"Full set r-squared (determination coefficient):\", r_value**2) \n",
      "\n",
      "train_set_error = sqrt(numpy.sum(((slope*x_train+intercept) - y_train)**2)/len(y_train))\n",
      "print ('Residual sum of squares, train:', train_set_error)\n",
      "\n",
      "test_set_error = sqrt(numpy.sum(((slope*x_test+intercept) - y_test)**2)/len(y_test))\n",
      "print ('Residual sum of squares, test:', test_set_error)"
     ],
     "language": "python",
     "metadata": {},
     "outputs": [
      {
       "output_type": "stream",
       "stream": "stdout",
       "text": [
        "Full set r-squared (determination coefficient): 0.970628650764\n",
        "Residual sum of squares, train: 1.0022902867570522\n",
        "Residual sum of squares, test: 0.9928345873525531\n"
       ]
      }
     ],
     "prompt_number": 77
    },
    {
     "cell_type": "code",
     "collapsed": false,
     "input": [
      "from scipy.stats import pearsonr\n",
      "print (\"Correlation coefficient:\")\n",
      "pearsonr(x, y_noise) #correlation coefficient x1"
     ],
     "language": "python",
     "metadata": {},
     "outputs": [
      {
       "metadata": {},
       "output_type": "pyout",
       "prompt_number": 78,
       "text": [
        "(0.98520487755804353, 0.0)"
       ]
      }
     ],
     "prompt_number": 78
    },
    {
     "cell_type": "code",
     "collapsed": false,
     "input": [
      "print (\"Correlation coefficient array:\")\n",
      "numpy.corrcoef(x,y_noise) #correlation coefficient x2"
     ],
     "language": "python",
     "metadata": {},
     "outputs": [
      {
       "metadata": {},
       "output_type": "pyout",
       "prompt_number": 60,
       "text": [
        "array([[ 1.        ,  0.98520488],\n",
        "       [ 0.98520488,  1.        ]])"
       ]
      }
     ],
     "prompt_number": 60
    },
    {
     "cell_type": "code",
     "collapsed": false,
     "input": [
      "_ = plot.plot(x_train, y_train, \"r.\")\n",
      "_ = plot.plot(x_test,y_test, \"b.\")\n",
      "_ = plot.plot(x, betas[0] + betas[1]*x, color=\"green\", linewidth = 3)\n",
      "plot.xlabel('X')\n",
      "plot.ylabel('Y')"
     ],
     "language": "python",
     "metadata": {},
     "outputs": [
      {
       "metadata": {},
       "output_type": "pyout",
       "prompt_number": 68,
       "text": [
        "<matplotlib.text.Text at 0x1075990d0>"
       ]
      },
      {
       "metadata": {},
       "output_type": "display_data",
       "png": "[encoded data removed]",
       "text": [
        "<matplotlib.figure.Figure at 0x1075c64d0>"
       ]
      }
     ],
     "prompt_number": 68
    }
   ],
   "metadata": {}
  }
 ]
}