{
 "metadata": {
  "name": "",
  "signature": "sha256:97f069921adb86c6bb078ed2e8137f4f966d7d55576836e5408e9a6e0c102c3d"
 },
 "nbformat": 3,
 "nbformat_minor": 0,
 "worksheets": [
  {
   "cells": [
    {
     "cell_type": "code",
     "collapsed": false,
     "input": [
      "import sys\n",
      "import numpy as np\n",
      "import scipy\n",
      "from sklearn.utils import shuffle\n",
      "import matplotlib.pyplot as plot\n",
      "from sklearn.neighbors import KNeighborsClassifier\n",
      "%matplotlib inline"
     ],
     "language": "python",
     "metadata": {},
     "outputs": [],
     "prompt_number": 7
    },
    {
     "cell_type": "code",
     "collapsed": false,
     "input": [
      "blue = np.loadtxt(\"./blue.txt\")\n",
      "red = np.loadtxt(\"./red.txt\")"
     ],
     "language": "python",
     "metadata": {},
     "outputs": [],
     "prompt_number": 3
    },
    {
     "cell_type": "code",
     "collapsed": false,
     "input": [
      "_ = plot.plot(blue[:, 0], blue[:, 1], \"b.\")\n",
      "_ = plot.plot(red[:, 0],  red[:, 1],  \"r.\")"
     ],
     "language": "python",
     "metadata": {},
     "outputs": [
      {
       "metadata": {},
       "output_type": "display_data",
       "png": "[encoded data removed]",
       "text": [
        "<matplotlib.figure.Figure at 0x10c192ad0>"
       ]
      }
     ],
     "prompt_number": 8
    },
    {
     "cell_type": "code",
     "collapsed": false,
     "input": [
      "red_points = np.hstack ((red, [[1]] * len (red) ))\n",
      "blue_points = np.hstack  ((blue, [[0]] * len (blue) ))\n",
      "all_points = np.concatenate((red_points, blue_points), axis=0)"
     ],
     "language": "python",
     "metadata": {},
     "outputs": [],
     "prompt_number": 9
    },
    {
     "cell_type": "code",
     "collapsed": false,
     "input": [
      "x = all_points[:, :-1]\n",
      "y = all_points[:, 2]\n",
      "x, y = shuffle(x, y, random_state=1)"
     ],
     "language": "python",
     "metadata": {},
     "outputs": [],
     "prompt_number": 10
    },
    {
     "cell_type": "code",
     "collapsed": false,
     "input": [
      "train_set=int(all_points.shape[0] *0.6)\n",
      "Xtrainset = x[:train_set]\n",
      "Ytrainset = y[:train_set]\n",
      "Xtestset = x[train_set:]\n",
      "Ytestset = y[train_set:]"
     ],
     "language": "python",
     "metadata": {},
     "outputs": [],
     "prompt_number": 14
    },
    {
     "cell_type": "code",
     "collapsed": false,
     "input": [
      "knearest = KNeighborsClassifier(n_neighbors=5)\n",
      "knearest.fit(Xtrainset, Ytrainset)\n",
      "print('Training set score:', knearest.score(Xtrainset, Ytrainset))\n",
      "print('Test set score:', knearest.score(Xtestset, Ytestset))"
     ],
     "language": "python",
     "metadata": {},
     "outputs": [
      {
       "output_type": "stream",
       "stream": "stdout",
       "text": [
        "('Training set score:', 0.89166666666666672)\n",
        "('Test set score:', 0.88)\n"
       ]
      }
     ],
     "prompt_number": 15
    },
    {
     "cell_type": "code",
     "collapsed": false,
     "input": [
      "def classify (x,y):\n",
      "    if knearest.predict([x,y]) == 0:\n",
      "        print(\"must be blue...\")\n",
      "    else:\n",
      "        print(\"must be red...\")"
     ],
     "language": "python",
     "metadata": {},
     "outputs": [],
     "prompt_number": 17
    },
    {
     "cell_type": "code",
     "collapsed": false,
     "input": [
      "print('what will be your x?')\n",
      "x = raw_input()\n",
      "print('and y?')\n",
      "y = raw_input()\n",
      "\n",
      "classify (x,y)"
     ],
     "language": "python",
     "metadata": {},
     "outputs": [
      {
       "output_type": "stream",
       "stream": "stdout",
       "text": [
        "what will be your x?\n"
       ]
      },
      {
       "name": "stdout",
       "output_type": "stream",
       "stream": "stdout",
       "text": [
        "4\n"
       ]
      },
      {
       "output_type": "stream",
       "stream": "stdout",
       "text": [
        "and y?\n"
       ]
      },
      {
       "name": "stdout",
       "output_type": "stream",
       "stream": "stdout",
       "text": [
        "6\n"
       ]
      },
      {
       "output_type": "stream",
       "stream": "stdout",
       "text": [
        "must be blue...\n"
       ]
      }
     ],
     "prompt_number": 18
    },
    {
     "cell_type": "code",
     "collapsed": false,
     "input": [
      "from sklearn.ensemble import RandomForestClassifier"
     ],
     "language": "python",
     "metadata": {},
     "outputs": [],
     "prompt_number": 20
    },
    {
     "cell_type": "code",
     "collapsed": false,
     "input": [
      "rforest = RandomForestClassifier (n_estimators=10)\n",
      "rforest.fit(Xtrainset, Ytrainset, sample_weight=None)\n",
      "\n",
      "print('train set score:', rforest.score(Xtrainset, Ytrainset))\n",
      "print('test set score:', rforest.score(Xtestset, Ytestset))"
     ],
     "language": "python",
     "metadata": {},
     "outputs": [
      {
       "output_type": "stream",
       "stream": "stdout",
       "text": [
        "('train set score:', 0.98333333333333328)\n",
        "('test set score:', 0.85250000000000004)\n"
       ]
      }
     ],
     "prompt_number": 23
    },
    {
     "cell_type": "code",
     "collapsed": false,
     "input": [
      "def classify_forest (x,y):\n",
      "    if rforest.predict([x,y]) == 0:\n",
      "        print(\"must be blue...\")\n",
      "    else:\n",
      "        print(\"must be red...\")"
     ],
     "language": "python",
     "metadata": {},
     "outputs": [],
     "prompt_number": 26
    },
    {
     "cell_type": "code",
     "collapsed": false,
     "input": [
      "print('what will be your x?')\n",
      "x = raw_input()\n",
      "print('and y?')\n",
      "y = raw_input()\n",
      "\n",
      "classify_forest (x,y)"
     ],
     "language": "python",
     "metadata": {},
     "outputs": [
      {
       "output_type": "stream",
       "stream": "stdout",
       "text": [
        "what will be your x?\n"
       ]
      },
      {
       "name": "stdout",
       "output_type": "stream",
       "stream": "stdout",
       "text": [
        "5\n"
       ]
      },
      {
       "output_type": "stream",
       "stream": "stdout",
       "text": [
        "and y?\n"
       ]
      },
      {
       "name": "stdout",
       "output_type": "stream",
       "stream": "stdout",
       "text": [
        "6\n"
       ]
      },
      {
       "output_type": "stream",
       "stream": "stdout",
       "text": [
        "must be blue...\n"
       ]
      }
     ],
     "prompt_number": 27
    },
    {
     "cell_type": "code",
     "collapsed": false,
     "input": [],
     "language": "python",
     "metadata": {},
     "outputs": []
    }
   ],
   "metadata": {}
  }
 ]
}