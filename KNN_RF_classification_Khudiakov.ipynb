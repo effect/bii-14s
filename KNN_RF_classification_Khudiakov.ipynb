{
 "metadata": {
  "name": "",
  "signature": "sha256:6c6a9db99ed7aca8fabca83238325003c94cd8e0bd87bb51d4c424f0762b60cd"
 },
 "nbformat": 3,
 "nbformat_minor": 0,
 "worksheets": [
  {
   "cells": [
    {
     "cell_type": "code",
     "collapsed": false,
     "input": [
      "import numpy as np\n",
      "import matplotlib.pyplot as plt\n",
      "from sklearn.utils import shuffle\n",
      "from sklearn.neighbors import KNeighborsClassifier\n",
      "from sklearn.ensemble import RandomForestClassifier\n",
      "from matplotlib.colors import ListedColormap"
     ],
     "language": "python",
     "metadata": {},
     "outputs": [],
     "prompt_number": 1
    },
    {
     "cell_type": "heading",
     "level": 3,
     "metadata": {},
     "source": [
      "Let's see what is in the file:"
     ]
    },
    {
     "cell_type": "code",
     "collapsed": false,
     "input": [
      "red_dots = np.loadtxt(\"red.txt\")\n",
      "blue_dots = np.loadtxt(\"blue.txt\")\n",
      "plt.plot(red_dots[:, 0], red_dots[:, 1], '.', color='red')\n",
      "plt.plot(blue_dots[:, 0], blue_dots[:, 1], '.', color='blue')\n",
      "plt.show()"
     ],
     "language": "python",
     "metadata": {},
     "outputs": [
      {
       "metadata": {},
       "output_type": "pyout",
       "prompt_number": 2,
       "text": [
        "[<matplotlib.lines.Line2D at 0x1077c4650>]"
       ]
      }
     ],
     "prompt_number": 2
    },
    {
     "cell_type": "heading",
     "level": 3,
     "metadata": {},
     "source": [
      "Class definition:"
     ]
    },
    {
     "cell_type": "code",
     "collapsed": false,
     "input": [
      "red_class = np.array(([1])*len(red_dots))  # red is 1\n",
      "red_class = red_class.reshape(red_class.size, 1)\n",
      "blue_class = np.array(([0])*len(blue_dots))  # blue is 0\n",
      "blue_class = blue_class.reshape(blue_class.size, 1)\n",
      "total_class = np.concatenate((red_class, blue_class))\n",
      "total_dots = np.concatenate((red_dots, blue_dots))"
     ],
     "language": "python",
     "metadata": {},
     "outputs": [],
     "prompt_number": 5
    },
    {
     "cell_type": "heading",
     "level": 3,
     "metadata": {},
     "source": [
      "Mixing dataset and its division on the train set (950 dots) and test set (50 dots)"
     ]
    },
    {
     "cell_type": "code",
     "collapsed": false,
     "input": [
      "shuffled_total_dots, shuffled_total_class = shuffle(total_dots, total_class)\n",
      "shuffled_total_class = shuffled_total_class.reshape(total_class.size, )\n",
      "dots_train = shuffled_total_dots[:950]\n",
      "class_train = shuffled_total_class[:950]\n",
      "dots_test = shuffled_total_dots[950:]\n",
      "class_test = shuffled_total_class[950:]"
     ],
     "language": "python",
     "metadata": {},
     "outputs": [],
     "prompt_number": 6
    },
    {
     "cell_type": "heading",
     "level": 3,
     "metadata": {},
     "source": [
      "KNN"
     ]
    },
    {
     "cell_type": "code",
     "collapsed": false,
     "input": [
      "knn = KNeighborsClassifier(n_neighbors=7)\n",
      "knn.fit(dots_train, class_train)\n",
      "print 'Accuracy of KNN train set:', knn.score(dots_train, class_train)\n",
      "print 'Accuracy of KNN test set:', knn.score(dots_test, class_test)\n",
      "def plot_knn(X):\n",
      "    h = .018\n",
      "    cmap_light = ListedColormap(['#0000FF', '#FF0000'])\n",
      "    x_min, x_max = X[:, 0].min(), X[:, 0].max()\n",
      "    y_min, y_max = X[:, 1].min(), X[:, 1].max()\n",
      "    xx, yy = np.meshgrid(np.arange(x_min, x_max, h), np.arange(y_min, y_max, h))\n",
      "    Z = knn.predict(np.c_[xx.ravel(), yy.ravel()])\n",
      "    Z = Z.reshape(xx.shape)\n",
      "    plt.scatter(shuffled_total_dots[:, 0], shuffled_total_dots[:, 1], c=shuffled_total_class, cmap=cmap_light)\n",
      "    plt.scatter(xx, yy, Z)\n",
      "    plt.title('k Nearest Neighbors')\n",
      "    plt.show()\n",
      "\n",
      "plot_knn(dots_test)"
     ],
     "language": "python",
     "metadata": {},
     "outputs": [
      {
       "output_type": "stream",
       "stream": "stdout",
       "text": [
        "Accuracy of KNN train set: 0.896842105263\n",
        "Accuracy of KNN test set: 0.94\n"
       ]
      }
     ],
     "prompt_number": 7
    },
    {
     "cell_type": "heading",
     "level": 3,
     "metadata": {},
     "source": [
      "RF"
     ]
    },
    {
     "cell_type": "code",
     "collapsed": false,
     "input": [
      "rfc = RandomForestClassifier(n_estimators=10)\n",
      "rfc.fit(dots_train, class_train)\n",
      "print 'Accuracy of Random Forest train set:', rfc.score(dots_train, class_train)\n",
      "print 'Accuracy of Random Forest test set:', rfc.score(dots_test, class_test)\n",
      "\n",
      "def plot_rfc(X):\n",
      "    h = .018\n",
      "    cmap_light = ListedColormap(['#0000FF', '#FF0000'])\n",
      "    x_min, x_max = X[:, 0].min(), X[:, 0].max()\n",
      "    y_min, y_max = X[:, 1].min(), X[:, 1].max()\n",
      "    xx, yy = np.meshgrid(np.arange(x_min, x_max, h), np.arange(y_min, y_max, h))\n",
      "    Z = rfc.predict(np.c_[xx.ravel(), yy.ravel()])\n",
      "    Z = Z.reshape(xx.shape)\n",
      "    plt.scatter(shuffled_total_dots[:, 0], shuffled_total_dots[:, 1], c = shuffled_total_class, cmap=cmap_light)\n",
      "    plt.scatter(xx, yy, Z)\n",
      "    plt.title('Random Forest')\n",
      "    plt.show()\n",
      "\n",
      "plot_rfc(dots_test)"
     ],
     "language": "python",
     "metadata": {},
     "outputs": [
      {
       "output_type": "stream",
       "stream": "stdout",
       "text": [
        "Accuracy of Random Forest train set: 0.983157894737\n",
        "Accuracy of Random Forest test set: 0.92\n"
       ]
      }
     ],
     "prompt_number": 8
    },
    {
     "cell_type": "heading",
     "level": 3,
     "metadata": {},
     "source": [
      "Color prediction"
     ]
    },
    {
     "cell_type": "code",
     "collapsed": false,
     "input": [
      "\n",
      "def what_is_the_color_of_the_dot_knn(coord_x, coord_y):\n",
      "    list = [coord_x, coord_y]\n",
      "    if knn.predict(list) == 1:\n",
      "        return 'KNN decision: Red'\n",
      "    else:\n",
      "        return 'KNN decision: Blue'\n",
      "\n",
      "def what_is_the_color_of_the_dot_rfc(coord_x, coord_y):\n",
      "    list = [coord_x, coord_y]\n",
      "    if rfc.predict(list) == 1:\n",
      "        return 'RF decision: Red'\n",
      "    else:\n",
      "        return 'RF decision: Blue'\n",
      "    \n",
      "print what_is_the_color_of_the_dot_knn(0.6, 0.47)\n",
      "print what_is_the_color_of_the_dot_rfc(0.6, 0.47)"
     ],
     "language": "python",
     "metadata": {},
     "outputs": [
      {
       "output_type": "stream",
       "stream": "stdout",
       "text": [
        "KNN decision: Blue\n",
        "RF decision: Red\n"
       ]
      }
     ],
     "prompt_number": 9
    },
    {
     "cell_type": "code",
     "collapsed": false,
     "input": [],
     "language": "python",
     "metadata": {},
     "outputs": []
    }
   ],
   "metadata": {}
  }
 ]
}